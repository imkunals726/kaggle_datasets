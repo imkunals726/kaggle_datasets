{
 "cells": [
  {
   "cell_type": "code",
   "execution_count": 1,
   "id": "efc0658c",
   "metadata": {},
   "outputs": [
    {
     "name": "stdout",
     "output_type": "stream",
     "text": [
      "Collecting pyspark\n",
      "  Downloading pyspark-4.0.0.tar.gz (434.1 MB)\n",
      "\u001b[2K     \u001b[90m━━━━━━━━━━━━━━━━━━━━━━━━━━━━━━━━━━━━━━\u001b[0m \u001b[32m434.1/434.1 MB\u001b[0m \u001b[31m21.8 MB/s\u001b[0m eta \u001b[36m0:00:00\u001b[0m00:01\u001b[0m00:01\u001b[0m\n",
      "\u001b[?25h  Installing build dependencies ... \u001b[?25ldone\n",
      "\u001b[?25h  Getting requirements to build wheel ... \u001b[?25ldone\n",
      "\u001b[?25h  Preparing metadata (pyproject.toml) ... \u001b[?25ldone\n",
      "\u001b[?25hCollecting py4j==0.10.9.9 (from pyspark)\n",
      "  Downloading py4j-0.10.9.9-py2.py3-none-any.whl.metadata (1.3 kB)\n",
      "Downloading py4j-0.10.9.9-py2.py3-none-any.whl (203 kB)\n",
      "Building wheels for collected packages: pyspark\n",
      "  Building wheel for pyspark (pyproject.toml) ... \u001b[?25ldone\n",
      "\u001b[?25h  Created wheel for pyspark: filename=pyspark-4.0.0-py2.py3-none-any.whl size=434741299 sha256=4c66e51d344fd7eb7cefc92fb71ea668b25f08ee91f219e9792121881f937231\n",
      "  Stored in directory: /home/codespace/.cache/pip/wheels/2d/77/9b/12660be70f7f447940a0caede37ae208b2e0d1c8487dce52a6\n",
      "Successfully built pyspark\n",
      "Installing collected packages: py4j, pyspark\n",
      "Successfully installed py4j-0.10.9.9 pyspark-4.0.0\n",
      "\n",
      "\u001b[1m[\u001b[0m\u001b[34;49mnotice\u001b[0m\u001b[1;39;49m]\u001b[0m\u001b[39;49m A new release of pip is available: \u001b[0m\u001b[31;49m25.0.1\u001b[0m\u001b[39;49m -> \u001b[0m\u001b[32;49m25.1.1\u001b[0m\n",
      "\u001b[1m[\u001b[0m\u001b[34;49mnotice\u001b[0m\u001b[1;39;49m]\u001b[0m\u001b[39;49m To update, run: \u001b[0m\u001b[32;49mpython3 -m pip install --upgrade pip\u001b[0m\n"
     ]
    }
   ],
   "source": [
    "!pip3 install pyspark"
   ]
  },
  {
   "cell_type": "code",
   "execution_count": 1,
   "id": "2c5b01cc",
   "metadata": {},
   "outputs": [],
   "source": [
    "from pyspark.sql import SparkSession, functions as F, types as T\n",
    "from pyspark.ml.feature import VectorAssembler, StandardScaler, StringIndexer, OneHotEncoder, Imputer"
   ]
  },
  {
   "cell_type": "code",
   "execution_count": 2,
   "id": "f07b1d9b",
   "metadata": {},
   "outputs": [
    {
     "name": "stderr",
     "output_type": "stream",
     "text": [
      "WARNING: Using incubator modules: jdk.incubator.vector\n",
      "Using Spark's default log4j profile: org/apache/spark/log4j2-defaults.properties\n",
      "25/06/14 17:52:03 WARN Utils: Your hostname, codespaces-589634, resolves to a loopback address: 127.0.0.1; using 10.0.2.171 instead (on interface eth0)\n",
      "25/06/14 17:52:03 WARN Utils: Set SPARK_LOCAL_IP if you need to bind to another address\n",
      "Using Spark's default log4j profile: org/apache/spark/log4j2-defaults.properties\n",
      "Setting default log level to \"WARN\".\n",
      "To adjust logging level use sc.setLogLevel(newLevel). For SparkR, use setLogLevel(newLevel).\n",
      "25/06/14 17:52:07 WARN NativeCodeLoader: Unable to load native-hadoop library for your platform... using builtin-java classes where applicable\n",
      "25/06/14 17:52:09 WARN Utils: Service 'SparkUI' could not bind on port 4040. Attempting port 4041.\n"
     ]
    }
   ],
   "source": [
    "spark = SparkSession.builder.appName('titanic').getOrCreate()"
   ]
  },
  {
   "cell_type": "code",
   "execution_count": 76,
   "id": "11e6d072",
   "metadata": {},
   "outputs": [],
   "source": [
    "train = spark.read.csv('train.csv', header = True)\n",
    "test = spark.read.csv('test.csv', header = True)"
   ]
  },
  {
   "cell_type": "code",
   "execution_count": 77,
   "id": "f0556a61",
   "metadata": {},
   "outputs": [
    {
     "name": "stdout",
     "output_type": "stream",
     "text": [
      "+-------+-----------------+-------------------+------------------+--------------------+------+------------------+------------------+-------------------+------------------+-----------------+-----+--------+\n",
      "|summary|      PassengerId|           Survived|            Pclass|                Name|   Sex|               Age|             SibSp|              Parch|            Ticket|             Fare|Cabin|Embarked|\n",
      "+-------+-----------------+-------------------+------------------+--------------------+------+------------------+------------------+-------------------+------------------+-----------------+-----+--------+\n",
      "|  count|              891|                891|               891|                 891|   891|               714|               891|                891|               891|              891|  204|     889|\n",
      "|   mean|            446.0| 0.3838383838383838| 2.308641975308642|                NULL|  NULL| 29.69911764705882|0.5230078563411896|0.38159371492704824|260318.54916792738| 32.2042079685746| NULL|    NULL|\n",
      "| stddev|257.3538420152301|0.48659245426485753|0.8360712409770491|                NULL|  NULL|14.526497332334035|1.1027434322934315| 0.8060572211299488|471609.26868834975|49.69342859718089| NULL|    NULL|\n",
      "|    min|                1|                  0|                 1|\"Andersson, Mr. A...|female|              0.42|                 0|                  0|            110152|                0|  A10|       C|\n",
      "|    max|               99|                  1|                 3|van Melkebeke, Mr...|  male|                 9|                 8|                  6|         WE/P 5735|             93.5|    T|       S|\n",
      "+-------+-----------------+-------------------+------------------+--------------------+------+------------------+------------------+-------------------+------------------+-----------------+-----+--------+\n",
      "\n"
     ]
    }
   ],
   "source": [
    "train.describe().show()"
   ]
  },
  {
   "cell_type": "code",
   "execution_count": 78,
   "id": "359efc2b",
   "metadata": {},
   "outputs": [
    {
     "data": {
      "text/plain": [
       "['PassengerId',\n",
       " 'Survived',\n",
       " 'Pclass',\n",
       " 'Name',\n",
       " 'Sex',\n",
       " 'Age',\n",
       " 'SibSp',\n",
       " 'Parch',\n",
       " 'Ticket',\n",
       " 'Fare',\n",
       " 'Cabin',\n",
       " 'Embarked']"
      ]
     },
     "execution_count": 78,
     "metadata": {},
     "output_type": "execute_result"
    }
   ],
   "source": [
    "train.columns"
   ]
  },
  {
   "cell_type": "code",
   "execution_count": 79,
   "id": "06336135",
   "metadata": {},
   "outputs": [],
   "source": [
    "labelCol = 'Survived'"
   ]
  },
  {
   "cell_type": "code",
   "execution_count": 80,
   "id": "d2b2efc1",
   "metadata": {},
   "outputs": [],
   "source": [
    "numerical_cols = ['Fare', 'Age', 'SibSp', 'Parch']"
   ]
  },
  {
   "cell_type": "code",
   "execution_count": 81,
   "id": "5f93bf7f",
   "metadata": {},
   "outputs": [],
   "source": [
    "def convert_to_numbers(df):\n",
    "    for col in numerical_cols:\n",
    "        df = df.withColumn(col, F.col(col).cast(T.FloatType()))\n",
    "    return df"
   ]
  },
  {
   "cell_type": "code",
   "execution_count": 82,
   "id": "f8c89081",
   "metadata": {},
   "outputs": [],
   "source": [
    "train = convert_to_numbers(train)"
   ]
  },
  {
   "cell_type": "code",
   "execution_count": 83,
   "id": "2af75fc1",
   "metadata": {},
   "outputs": [],
   "source": [
    "import matplotlib.pyplot as plt\n",
    "def plot_dist(df, col, bin_size = 5, is_categorical = False):\n",
    "\n",
    "    if not is_categorical : df = df.withColumn(f'{col}_bin', (F.col(col) / bin_size).cast(T.IntegerType()))\n",
    "    if is_categorical: df = df.withColumn(f'{col}_bin', F.col(col))\n",
    "    counts = df.groupby(f'{col}_bin', labelCol).agg(F.count(F.lit(1)).alias('counts')).orderBy(f'{col}_bin').fillna(-1, [f'{col}_bin']).toPandas()\n",
    "    counts = counts.pivot(index=f'{col}_bin', columns=labelCol, values='counts').fillna(0)\n",
    "    counts = counts.sort_index()\n",
    "    counts.plot(kind = 'bar', stacked = True)\n",
    "    #plt.hist(counts['counts'])\n"
   ]
  },
  {
   "cell_type": "code",
   "execution_count": 84,
   "id": "d0ec5599",
   "metadata": {},
   "outputs": [
    {
     "data": {
      "image/png": "[encoded data removed]",
      "text/plain": [
       "<Figure size 640x480 with 1 Axes>"
      ]
     },
     "metadata": {},
     "output_type": "display_data"
    }
   ],
   "source": [
    "plot_dist(train, 'Age')"
   ]
  },
  {
   "cell_type": "code",
   "execution_count": 85,
   "id": "d248b315",
   "metadata": {},
   "outputs": [
    {
     "data": {
      "image/png": "[encoded data removed]",
      "text/plain": [
       "<Figure size 640x480 with 1 Axes>"
      ]
     },
     "metadata": {},
     "output_type": "display_data"
    }
   ],
   "source": [
    "plot_dist(train, 'Pclass', bin_size = 1)"
   ]
  },
  {
   "cell_type": "code",
   "execution_count": 86,
   "id": "67578597",
   "metadata": {},
   "outputs": [
    {
     "data": {
      "image/png": "[encoded data removed]",
      "text/plain": [
       "<Figure size 640x480 with 1 Axes>"
      ]
     },
     "metadata": {},
     "output_type": "display_data"
    }
   ],
   "source": [
    "plot_dist(train, 'Embarked', bin_size = 1, is_categorical = True)"
   ]
  },
  {
   "cell_type": "code",
   "execution_count": 87,
   "id": "adf2a9ec",
   "metadata": {},
   "outputs": [],
   "source": [
    "train = train.withColumn('family_size', F.col('SibSp') + F.col('ParCh'))"
   ]
  },
  {
   "cell_type": "code",
   "execution_count": 88,
   "id": "ff884559",
   "metadata": {},
   "outputs": [
    {
     "data": {
      "image/png": "[encoded data removed]",
      "text/plain": [
       "<Figure size 640x480 with 1 Axes>"
      ]
     },
     "metadata": {},
     "output_type": "display_data"
    }
   ],
   "source": [
    "plot_dist(train, 'family_size',  bin_size=1)"
   ]
  },
  {
   "cell_type": "code",
   "execution_count": 89,
   "id": "0a957e0c",
   "metadata": {},
   "outputs": [
    {
     "data": {
      "image/png": "[encoded data removed]",
      "text/plain": [
       "<Figure size 640x480 with 1 Axes>"
      ]
     },
     "metadata": {},
     "output_type": "display_data"
    }
   ],
   "source": [
    "plot_dist(train, 'Fare', bin_size= 10 )"
   ]
  },
  {
   "cell_type": "code",
   "execution_count": 90,
   "id": "210a3b56",
   "metadata": {},
   "outputs": [],
   "source": [
    "train = train.withColumn('CabinID', F.udf(lambda x : x[0] if x else 'missing', returnType=T.StringType())('Cabin'))\n",
    "train = train.fillna('missing', ['CabinID'])"
   ]
  },
  {
   "cell_type": "code",
   "execution_count": 91,
   "id": "a1cb0ecd",
   "metadata": {},
   "outputs": [
    {
     "data": {
      "text/plain": [
       "DataFrame[PassengerId: string, Survived: string, Pclass: string, Name: string, Sex: string, Age: float, SibSp: float, Parch: float, Ticket: string, Fare: float, Cabin: string, Embarked: string, family_size: float, CabinID: string]"
      ]
     },
     "execution_count": 91,
     "metadata": {},
     "output_type": "execute_result"
    }
   ],
   "source": [
    "train"
   ]
  },
  {
   "cell_type": "code",
   "execution_count": 92,
   "id": "6bfa585b",
   "metadata": {},
   "outputs": [
    {
     "data": {
      "image/png": "[encoded data removed]",
      "text/plain": [
       "<Figure size 640x480 with 1 Axes>"
      ]
     },
     "metadata": {},
     "output_type": "display_data"
    }
   ],
   "source": [
    "plot_dist(train, 'CabinID', bin_size=1, is_categorical=True)"
   ]
  },
  {
   "cell_type": "code",
   "execution_count": 93,
   "id": "6aebb3b7",
   "metadata": {},
   "outputs": [
    {
     "data": {
      "image/png": "[encoded data removed]",
      "text/plain": [
       "<Figure size 640x480 with 1 Axes>"
      ]
     },
     "metadata": {},
     "output_type": "display_data"
    }
   ],
   "source": [
    "plot_dist(train, 'Sex', is_categorical=True)"
   ]
  },
  {
   "cell_type": "code",
   "execution_count": 94,
   "id": "e8c385c0",
   "metadata": {},
   "outputs": [
    {
     "data": {
      "text/plain": [
       "['PassengerId',\n",
       " 'Survived',\n",
       " 'Pclass',\n",
       " 'Name',\n",
       " 'Sex',\n",
       " 'Age',\n",
       " 'SibSp',\n",
       " 'Parch',\n",
       " 'Ticket',\n",
       " 'Fare',\n",
       " 'Cabin',\n",
       " 'Embarked',\n",
       " 'family_size',\n",
       " 'CabinID']"
      ]
     },
     "execution_count": 94,
     "metadata": {},
     "output_type": "execute_result"
    }
   ],
   "source": [
    "train.columns"
   ]
  },
  {
   "cell_type": "code",
   "execution_count": 95,
   "id": "a013b2b0",
   "metadata": {},
   "outputs": [
    {
     "name": "stdout",
     "output_type": "stream",
     "text": [
      "+-------+-----------------+-------------------+------------------+--------------------+------+------------------+------------------+-------------------+------------------+-----------------+-----+--------+------------------+-------+\n",
      "|summary|      PassengerId|           Survived|            Pclass|                Name|   Sex|               Age|             SibSp|              Parch|            Ticket|             Fare|Cabin|Embarked|       family_size|CabinID|\n",
      "+-------+-----------------+-------------------+------------------+--------------------+------+------------------+------------------+-------------------+------------------+-----------------+-----+--------+------------------+-------+\n",
      "|  count|              891|                891|               891|                 891|   891|               714|               891|                891|               891|              891|  204|     889|               891|    891|\n",
      "|   mean|            446.0| 0.3838383838383838| 2.308641975308642|                NULL|  NULL| 29.69911764704046|0.5230078563411896|0.38159371492704824|260318.54916792738|32.20420804114722| NULL|    NULL|0.9046015712682379|   NULL|\n",
      "| stddev|257.3538420152301|0.48659245426485753|0.8360712409770491|                NULL|  NULL|14.526497332370992|1.1027434322934315| 0.8060572211299488|471609.26868834975|49.69342916316158| NULL|    NULL| 1.613458541355087|   NULL|\n",
      "|    min|                1|                  0|                 1|\"Andersson, Mr. A...|female|              0.42|               0.0|                0.0|            110152|              0.0|  A10|       C|               0.0|      A|\n",
      "|    max|               99|                  1|                 3|van Melkebeke, Mr...|  male|              80.0|               8.0|                6.0|         WE/P 5735|         512.3292|    T|       S|              10.0|missing|\n",
      "+-------+-----------------+-------------------+------------------+--------------------+------+------------------+------------------+-------------------+------------------+-----------------+-----+--------+------------------+-------+\n",
      "\n"
     ]
    }
   ],
   "source": [
    "train.describe().show()"
   ]
  },
  {
   "cell_type": "code",
   "execution_count": 96,
   "id": "d8b5ddb0",
   "metadata": {},
   "outputs": [],
   "source": [
    "def preprocess(df):\n",
    "    df = convert_to_numbers(df)\n",
    "\n",
    "    df = df.withColumn('Age_bin', (F.col('Age') / 5).cast(T.IntegerType()) )\n",
    "    df = df.withColumn('family_size', F.col('SibSp') + F.col('ParCh'))\n",
    "    df = df.withColumn('CabinID', F.udf(lambda x : x[0] if x else 'missing', returnType=T.StringType())('Cabin'))\n",
    "    \n",
    "    df = df.fillna(-1, 'Age_bin')\n",
    "    df = df.fillna('S' , 'Embarked')\n",
    "\n",
    "    if labelCol in df.columns : df = df.withColumn(labelCol, F.col(labelCol).cast(T.IntegerType()))\n",
    "\n",
    "    return df\n",
    "    \n",
    "    "
   ]
  },
  {
   "cell_type": "code",
   "execution_count": 97,
   "id": "2dad056a",
   "metadata": {},
   "outputs": [],
   "source": [
    "train= preprocess(train)\n",
    "test = preprocess(test )"
   ]
  },
  {
   "cell_type": "code",
   "execution_count": 98,
   "id": "961b5f67",
   "metadata": {},
   "outputs": [
    {
     "data": {
      "text/plain": [
       "['PassengerId',\n",
       " 'Survived',\n",
       " 'Pclass',\n",
       " 'Name',\n",
       " 'Sex',\n",
       " 'Age',\n",
       " 'SibSp',\n",
       " 'Parch',\n",
       " 'Ticket',\n",
       " 'Fare',\n",
       " 'Cabin',\n",
       " 'Embarked',\n",
       " 'family_size',\n",
       " 'CabinID',\n",
       " 'Age_bin']"
      ]
     },
     "execution_count": 98,
     "metadata": {},
     "output_type": "execute_result"
    }
   ],
   "source": [
    "train.columns"
   ]
  },
  {
   "cell_type": "code",
   "execution_count": 99,
   "id": "2e284730",
   "metadata": {},
   "outputs": [],
   "source": [
    "categorical_cols = ['Age_bin', 'CabinID', 'Embarked' , 'Sex', 'Pclass']\n",
    "numerical_cols = ['Fare',  'family_size']"
   ]
  },
  {
   "cell_type": "code",
   "execution_count": 100,
   "id": "66a65705",
   "metadata": {},
   "outputs": [],
   "source": [
    "from pyspark.ml.pipeline import Pipeline"
   ]
  },
  {
   "cell_type": "code",
   "execution_count": 101,
   "id": "981b61f6",
   "metadata": {},
   "outputs": [],
   "source": [
    "pipeline_model = Pipeline( stages = [\n",
    "    VectorAssembler(inputCols=numerical_cols, outputCol='num_features'),\n",
    "    StandardScaler( inputCol= 'num_features', outputCol= 'num_features_scaled', withMean=True, withStd=True),\n",
    "    StringIndexer(inputCols=categorical_cols, outputCols=[f'{col}_index' for col in categorical_cols]),\n",
    "    OneHotEncoder(inputCols=[f'{col}_index' for col in categorical_cols], outputCols=[f'{col}_vec' for col in categorical_cols]),\n",
    "    VectorAssembler(inputCols=['num_features_scaled'] + [f'{col}_vec' for col in categorical_cols], outputCol='features')\n",
    "]\n",
    ")"
   ]
  },
  {
   "cell_type": "code",
   "execution_count": 102,
   "id": "d28ab92b",
   "metadata": {},
   "outputs": [],
   "source": [
    "train_data, valid_data = train.randomSplit([0.8, 0.2])"
   ]
  },
  {
   "cell_type": "code",
   "execution_count": 103,
   "id": "1d654097",
   "metadata": {},
   "outputs": [],
   "source": [
    "pipeline_model = pipeline_model.fit(train)"
   ]
  },
  {
   "cell_type": "code",
   "execution_count": 104,
   "id": "0deb6f10",
   "metadata": {},
   "outputs": [],
   "source": [
    "train_tr = pipeline_model.transform(train_data)\n",
    "valid_tr = pipeline_model.transform(valid_data)\n",
    "test_tr = pipeline_model.transform(test)"
   ]
  },
  {
   "cell_type": "code",
   "execution_count": 105,
   "id": "c5405d5b",
   "metadata": {},
   "outputs": [
    {
     "name": "stdout",
     "output_type": "stream",
     "text": [
      "+--------------------+\n",
      "|            features|\n",
      "+--------------------+\n",
      "|(31,[0,1,3,18,26,...|\n",
      "|(31,[0,1,5,18,26,...|\n",
      "|(31,[0,1,4,18,26,...|\n",
      "|(31,[0,1,2,18,26,...|\n",
      "|(31,[0,1,3,21,26,...|\n",
      "|(31,[0,1,5,18,26,...|\n",
      "|(31,[0,1,7,18,26,...|\n",
      "|(31,[0,1,4,18,26,...|\n",
      "|(31,[0,1,2,18,26,...|\n",
      "|(31,[0,1,10,25,26...|\n",
      "|(31,[0,1,9,19,26,...|\n",
      "|(31,[0,1,14,18,27...|\n",
      "|(31,[0,1,3,18,26,...|\n",
      "|(31,[0,1,6,18,27,...|\n",
      "|(31,[0,1,16,18,28...|\n",
      "|(31,[0,1,4,18,26,...|\n",
      "|(31,[0,1,13,19,26...|\n",
      "|(31,[0,1,10,18,26...|\n",
      "|(31,[0,1,3,18,26,...|\n",
      "|(31,[0,1,2,18,26,...|\n",
      "+--------------------+\n",
      "only showing top 20 rows\n"
     ]
    }
   ],
   "source": [
    "train_tr.select('features').show()"
   ]
  },
  {
   "cell_type": "code",
   "execution_count": 106,
   "id": "373378df",
   "metadata": {},
   "outputs": [],
   "source": [
    "from pyspark.ml.classification import RandomForestClassifier, LogisticRegression"
   ]
  },
  {
   "cell_type": "code",
   "execution_count": 115,
   "id": "719261ea",
   "metadata": {},
   "outputs": [],
   "source": [
    "lr = LogisticRegression(featuresCol='features', labelCol=labelCol)\n",
    "rf = RandomForestClassifier(featuresCol='features', labelCol=labelCol)"
   ]
  },
  {
   "cell_type": "code",
   "execution_count": 116,
   "id": "071664dc",
   "metadata": {},
   "outputs": [],
   "source": [
    "lr = lr.fit(train_tr)\n",
    "rf = rf.fit(train_tr)"
   ]
  },
  {
   "cell_type": "code",
   "execution_count": 117,
   "id": "42c24cb3",
   "metadata": {},
   "outputs": [],
   "source": [
    "from pyspark.ml.evaluation import BinaryClassificationEvaluator, MulticlassClassificationEvaluator"
   ]
  },
  {
   "cell_type": "code",
   "execution_count": null,
   "id": "837615d9",
   "metadata": {},
   "outputs": [],
   "source": []
  },
  {
   "cell_type": "code",
   "execution_count": 128,
   "id": "6c8030ba",
   "metadata": {},
   "outputs": [],
   "source": [
    "def evaluate(preds):\n",
    "\n",
    "    evaluator = MulticlassClassificationEvaluator(labelCol=labelCol, metricLabel=1)\n",
    "    roc_auc_eval = BinaryClassificationEvaluator(labelCol=labelCol)\n",
    "    precision   = evaluator.evaluate(preds, {evaluator.metricName : 'precisionByLabel'})\n",
    "    recall      = evaluator.evaluate(preds, {evaluator.metricName : 'precisionByLabel'})\n",
    "    roc_auc_score = roc_auc_eval.evaluate(preds)\n",
    "    return precision, recall, roc_auc_score"
   ]
  },
  {
   "cell_type": "code",
   "execution_count": 126,
   "id": "cd573f2f",
   "metadata": {},
   "outputs": [],
   "source": [
    "lr_train_preds = lr.transform(train_tr)\n",
    "lr_valid_preds = lr.transform(valid_tr)\n",
    "rf_train_preds = rf.transform(train_tr)\n",
    "rf_valid_preds = rf.transform(valid_tr)\n"
   ]
  },
  {
   "cell_type": "code",
   "execution_count": 129,
   "id": "aff85394",
   "metadata": {},
   "outputs": [
    {
     "data": {
      "text/plain": [
       "(0.7622641509433963, 0.7622641509433963, 0.8760907084085884)"
      ]
     },
     "execution_count": 129,
     "metadata": {},
     "output_type": "execute_result"
    }
   ],
   "source": [
    "evaluate(lr_train_preds)"
   ]
  },
  {
   "cell_type": "code",
   "execution_count": 130,
   "id": "16c798fd",
   "metadata": {},
   "outputs": [
    {
     "data": {
      "text/plain": [
       "(0.8360655737704918, 0.8360655737704918, 0.8641169154228852)"
      ]
     },
     "execution_count": 130,
     "metadata": {},
     "output_type": "execute_result"
    }
   ],
   "source": [
    "evaluate(lr_valid_preds)"
   ]
  },
  {
   "cell_type": "code",
   "execution_count": 131,
   "id": "364ba64b",
   "metadata": {},
   "outputs": [
    {
     "name": "stderr",
     "output_type": "stream",
     "text": [
      "                                                                                \r"
     ]
    },
    {
     "data": {
      "text/plain": [
       "(0.8944723618090452, 0.8944723618090452, 0.8793297210515757)"
      ]
     },
     "execution_count": 131,
     "metadata": {},
     "output_type": "execute_result"
    }
   ],
   "source": [
    "evaluate(rf_train_preds)"
   ]
  },
  {
   "cell_type": "code",
   "execution_count": 132,
   "id": "7f946a38",
   "metadata": {},
   "outputs": [
    {
     "data": {
      "text/plain": [
       "(0.8292682926829268, 0.8292682926829268, 0.8387748756218902)"
      ]
     },
     "execution_count": 132,
     "metadata": {},
     "output_type": "execute_result"
    }
   ],
   "source": [
    "evaluate(rf_valid_preds)"
   ]
  },
  {
   "cell_type": "code",
   "execution_count": 133,
   "id": "a117166d",
   "metadata": {},
   "outputs": [
    {
     "data": {
      "text/plain": [
       "Param(parent='LogisticRegression_728754f531b1', name='elasticNetParam', doc='the ElasticNet mixing parameter, in range [0, 1]. For alpha = 0, the penalty is an L2 penalty. For alpha = 1, it is an L1 penalty.')"
      ]
     },
     "execution_count": 133,
     "metadata": {},
     "output_type": "execute_result"
    }
   ],
   "source": [
    "lr.elasticNetParam"
   ]
  },
  {
   "cell_type": "code",
   "execution_count": 134,
   "id": "cac4d988",
   "metadata": {},
   "outputs": [
    {
     "data": {
      "text/plain": [
       "[Param(parent='RandomForestClassifier_fca55703986e', name='bootstrap', doc='Whether bootstrap samples are used when building trees.'),\n",
       " Param(parent='RandomForestClassifier_fca55703986e', name='cacheNodeIds', doc='If false, the algorithm will pass trees to executors to match instances with nodes. If true, the algorithm will cache node IDs for each instance. Caching can speed up training of deeper trees. Users can set how often should the cache be checkpointed or disable it by setting checkpointInterval.'),\n",
       " Param(parent='RandomForestClassifier_fca55703986e', name='checkpointInterval', doc='set checkpoint interval (>= 1) or disable checkpoint (-1). E.g. 10 means that the cache will get checkpointed every 10 iterations. Note: this setting will be ignored if the checkpoint directory is not set in the SparkContext.'),\n",
       " Param(parent='RandomForestClassifier_fca55703986e', name='featureSubsetStrategy', doc=\"The number of features to consider for splits at each tree node. Supported options: 'auto' (choose automatically for task: If numTrees == 1, set to 'all'. If numTrees > 1 (forest), set to 'sqrt' for classification and to 'onethird' for regression), 'all' (use all features), 'onethird' (use 1/3 of the features), 'sqrt' (use sqrt(number of features)), 'log2' (use log2(number of features)), 'n' (when n is in the range (0, 1.0], use n * number of features. When n is in the range (1, number of features), use n features). default = 'auto'\"),\n",
       " Param(parent='RandomForestClassifier_fca55703986e', name='featuresCol', doc='features column name.'),\n",
       " Param(parent='RandomForestClassifier_fca55703986e', name='impurity', doc='Criterion used for information gain calculation (case-insensitive). Supported options: entropy, gini'),\n",
       " Param(parent='RandomForestClassifier_fca55703986e', name='labelCol', doc='label column name.'),\n",
       " Param(parent='RandomForestClassifier_fca55703986e', name='leafCol', doc='Leaf indices column name. Predicted leaf index of each instance in each tree by preorder.'),\n",
       " Param(parent='RandomForestClassifier_fca55703986e', name='maxBins', doc='Max number of bins for discretizing continuous features.  Must be >=2 and >= number of categories for any categorical feature.'),\n",
       " Param(parent='RandomForestClassifier_fca55703986e', name='maxDepth', doc='Maximum depth of the tree. (>= 0) E.g., depth 0 means 1 leaf node; depth 1 means 1 internal node + 2 leaf nodes. Must be in range [0, 30].'),\n",
       " Param(parent='RandomForestClassifier_fca55703986e', name='maxMemoryInMB', doc='Maximum memory in MB allocated to histogram aggregation. If too small, then 1 node will be split per iteration, and its aggregates may exceed this size.'),\n",
       " Param(parent='RandomForestClassifier_fca55703986e', name='minInfoGain', doc='Minimum information gain for a split to be considered at a tree node.'),\n",
       " Param(parent='RandomForestClassifier_fca55703986e', name='minInstancesPerNode', doc='Minimum number of instances each child must have after split. If a split causes the left or right child to have fewer than minInstancesPerNode, the split will be discarded as invalid. Should be >= 1.'),\n",
       " Param(parent='RandomForestClassifier_fca55703986e', name='minWeightFractionPerNode', doc='Minimum fraction of the weighted sample count that each child must have after split. If a split causes the fraction of the total weight in the left or right child to be less than minWeightFractionPerNode, the split will be discarded as invalid. Should be in interval [0.0, 0.5).'),\n",
       " Param(parent='RandomForestClassifier_fca55703986e', name='numTrees', doc='Number of trees to train (>= 1).'),\n",
       " Param(parent='RandomForestClassifier_fca55703986e', name='predictionCol', doc='prediction column name.'),\n",
       " Param(parent='RandomForestClassifier_fca55703986e', name='probabilityCol', doc='Column name for predicted class conditional probabilities. Note: Not all models output well-calibrated probability estimates! These probabilities should be treated as confidences, not precise probabilities.'),\n",
       " Param(parent='RandomForestClassifier_fca55703986e', name='rawPredictionCol', doc='raw prediction (a.k.a. confidence) column name.'),\n",
       " Param(parent='RandomForestClassifier_fca55703986e', name='seed', doc='random seed.'),\n",
       " Param(parent='RandomForestClassifier_fca55703986e', name='subsamplingRate', doc='Fraction of the training data used for learning each decision tree, in range (0, 1].'),\n",
       " Param(parent='RandomForestClassifier_fca55703986e', name='thresholds', doc=\"Thresholds in multi-class classification to adjust the probability of predicting each class. Array must have length equal to the number of classes, with values > 0, excepting that at most one value may be 0. The class with largest value p/t is predicted, where p is the original probability of that class and t is the class's threshold.\"),\n",
       " Param(parent='RandomForestClassifier_fca55703986e', name='weightCol', doc='weight column name. If this is not set or empty, we treat all instance weights as 1.0.')]"
      ]
     },
     "execution_count": 134,
     "metadata": {},
     "output_type": "execute_result"
    }
   ],
   "source": [
    "rf.params"
   ]
  },
  {
   "cell_type": "code",
   "execution_count": 155,
   "id": "c9b3cea9",
   "metadata": {},
   "outputs": [],
   "source": [
    "from pyspark.ml.tuning import CrossValidator, ParamGridBuilder\n",
    "lr = LogisticRegression(labelCol=labelCol, featuresCol='features')\n",
    "rf = RandomForestClassifier(labelCol=labelCol, featuresCol='features')\n",
    "lr_param_grid = ParamGridBuilder().addGrid(lr.regParam , [0.1, 0.01, 1.0])\\\n",
    "                .addGrid(lr.elasticNetParam, [0, 0.5, 1]).build()\n",
    "\n",
    "rf_param_grid = ParamGridBuilder().addGrid(rf.maxDepth , [2, 3])\\\n",
    "                .addGrid(rf.numTrees, [5, 10, 20, 25, 50 , 100]).build()"
   ]
  },
  {
   "cell_type": "code",
   "execution_count": 145,
   "id": "0e227c79",
   "metadata": {},
   "outputs": [],
   "source": [
    "roc_auc_evaluator = BinaryClassificationEvaluator(labelCol=labelCol, metricName='areaUnderROC')\n",
    "cv = CrossValidator(\n",
    "    estimator= lr , \n",
    "    numFolds= 3,\n",
    "    evaluator= roc_auc_evaluator,\n",
    "    estimatorParamMaps= lr_param_grid\n",
    ")"
   ]
  },
  {
   "cell_type": "code",
   "execution_count": 146,
   "id": "41b3ce0d",
   "metadata": {},
   "outputs": [
    {
     "name": "stderr",
     "output_type": "stream",
     "text": [
      "25/06/14 18:19:12 WARN CacheManager: Asked to cache already cached data.\n",
      "25/06/14 18:19:12 WARN CacheManager: Asked to cache already cached data.\n",
      "                                                                                \r"
     ]
    }
   ],
   "source": [
    "lr_cv_model = cv.fit(train_tr)"
   ]
  },
  {
   "cell_type": "code",
   "execution_count": 156,
   "id": "8541922b",
   "metadata": {},
   "outputs": [],
   "source": [
    "rf_cv = CrossValidator(\n",
    "    estimator= rf , \n",
    "    numFolds= 3,\n",
    "    evaluator= roc_auc_evaluator,\n",
    "    estimatorParamMaps= rf_param_grid\n",
    ")"
   ]
  },
  {
   "cell_type": "code",
   "execution_count": 157,
   "id": "99e98cb4",
   "metadata": {},
   "outputs": [],
   "source": [
    "rf_cv_model = rf_cv.fit(train_tr)"
   ]
  },
  {
   "cell_type": "code",
   "execution_count": 152,
   "id": "e748c297",
   "metadata": {},
   "outputs": [
    {
     "data": {
      "text/plain": [
       "25"
      ]
     },
     "execution_count": 152,
     "metadata": {},
     "output_type": "execute_result"
    }
   ],
   "source": [
    "rf_cv_model.bestModel.getNumTrees"
   ]
  },
  {
   "cell_type": "code",
   "execution_count": 158,
   "id": "ff31e4e8",
   "metadata": {},
   "outputs": [],
   "source": [
    "lr_train_preds = lr_cv_model.transform(train_tr)\n",
    "lr_valid_preds = lr_cv_model.transform(valid_tr)\n",
    "rf_train_preds = rf_cv_model.transform(train_tr)\n",
    "rf_valid_preds = rf_cv_model.transform(valid_tr)\n"
   ]
  },
  {
   "cell_type": "code",
   "execution_count": 159,
   "id": "477b3a82",
   "metadata": {},
   "outputs": [
    {
     "name": "stdout",
     "output_type": "stream",
     "text": [
      "LR train_scores (0.8173913043478261, 0.8173913043478261, 0.870889022677101)\n",
      "LR valid_scores (0.8431372549019608, 0.8431372549019608, 0.8630286069651738)\n",
      "RF train_scores (0.8729281767955801, 0.8729281767955801, 0.8623038330323096)\n",
      "RF valid_scores (0.9210526315789473, 0.9210526315789473, 0.8512904228855716)\n"
     ]
    }
   ],
   "source": [
    "print('LR train_scores' , evaluate(lr_train_preds)) \n",
    "print('LR valid_scores' , evaluate(lr_valid_preds)) \n",
    "print('RF train_scores' , evaluate(rf_train_preds)) \n",
    "print('RF valid_scores' , evaluate(rf_valid_preds)) \n"
   ]
  },
  {
   "cell_type": "code",
   "execution_count": 161,
   "id": "0aafca3e",
   "metadata": {},
   "outputs": [],
   "source": [
    "test_preds = rf_cv_model.transform(test_tr)"
   ]
  },
  {
   "cell_type": "code",
   "execution_count": 176,
   "id": "b6182e80",
   "metadata": {},
   "outputs": [
    {
     "name": "stdout",
     "output_type": "stream",
     "text": [
      "+-------+------------------+------------------+--------------------+------+------------------+------------------+------------------+------------------+-----------------+-----+--------+-----------------+------------------+-------+\n",
      "|summary|       PassengerId|            Pclass|                Name|   Sex|               Age|             SibSp|             Parch|            Ticket|             Fare|Cabin|Embarked|          Age_bin|       family_size|CabinID|\n",
      "+-------+------------------+------------------+--------------------+------+------------------+------------------+------------------+------------------+-----------------+-----+--------+-----------------+------------------+-------+\n",
      "|  count|               418|               418|                 418|   418|               332|               418|               418|               418|              417|   91|     418|              418|               418|    418|\n",
      "|   mean|            1100.5|2.2655502392344498|                NULL|  NULL|30.272590361490668|0.4473684210526316|0.3923444976076555|223850.98986486485|35.62718864996656| NULL|    NULL|4.303827751196172|0.8397129186602871|   NULL|\n",
      "| stddev|120.81045760473994|0.8418375519640503|                NULL|  NULL|14.181209235529623|0.8967595611217135|0.9814288785371694| 369523.7764694362|55.90757676143133| NULL|    NULL|3.717356360478073|1.5190720106373412|   NULL|\n",
      "|    min|              1000|                 1|\"Assaf Khalil, Mr...|female|              0.17|               0.0|               0.0|            110469|              0.0|  A11|       C|               -1|               0.0|      A|\n",
      "|    max|               999|                 3|van Billiard, Mas...|  male|              76.0|               8.0|               9.0|       W.E.P. 5734|         512.3292|   G6|       S|               15|              10.0|missing|\n",
      "+-------+------------------+------------------+--------------------+------+------------------+------------------+------------------+------------------+-----------------+-----+--------+-----------------+------------------+-------+\n",
      "\n"
     ]
    }
   ],
   "source": [
    "test.describe().show()"
   ]
  },
  {
   "cell_type": "code",
   "execution_count": 170,
   "id": "9526b98d",
   "metadata": {},
   "outputs": [
    {
     "data": {
      "text/plain": [
       "[('PassengerId', 'string'),\n",
       " ('Pclass', 'string'),\n",
       " ('Name', 'string'),\n",
       " ('Sex', 'string'),\n",
       " ('Age', 'float'),\n",
       " ('SibSp', 'float'),\n",
       " ('Parch', 'float'),\n",
       " ('Ticket', 'string'),\n",
       " ('Fare', 'float'),\n",
       " ('Cabin', 'string'),\n",
       " ('Embarked', 'string'),\n",
       " ('Age_bin', 'int'),\n",
       " ('family_size', 'float'),\n",
       " ('CabinID', 'string'),\n",
       " ('num_features', 'vector'),\n",
       " ('num_features_scaled', 'vector'),\n",
       " ('Age_bin_index', 'double'),\n",
       " ('CabinID_index', 'double'),\n",
       " ('Embarked_index', 'double'),\n",
       " ('Sex_index', 'double'),\n",
       " ('Pclass_index', 'double'),\n",
       " ('Age_bin_vec', 'vector'),\n",
       " ('CabinID_vec', 'vector'),\n",
       " ('Embarked_vec', 'vector'),\n",
       " ('Sex_vec', 'vector'),\n",
       " ('Pclass_vec', 'vector'),\n",
       " ('features', 'vector')]"
      ]
     },
     "execution_count": 170,
     "metadata": {},
     "output_type": "execute_result"
    }
   ],
   "source": [
    "test_tr.dtypes"
   ]
  },
  {
   "cell_type": "code",
   "execution_count": null,
   "id": "5a1080a9",
   "metadata": {},
   "outputs": [],
   "source": []
  }
 ],
 "metadata": {
  "kernelspec": {
   "display_name": "Python 3",
   "language": "python",
   "name": "python3"
  },
  "language_info": {
   "codemirror_mode": {
    "name": "ipython",
    "version": 3
   },
   "file_extension": ".py",
   "mimetype": "text/x-python",
   "name": "python",
   "nbconvert_exporter": "python",
   "pygments_lexer": "ipython3",
   "version": "3.12.1"
  }
 },
 "nbformat": 4,
 "nbformat_minor": 5
}
